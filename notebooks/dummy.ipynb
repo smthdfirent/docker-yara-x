{
 "cells": [
  {
   "cell_type": "markdown",
   "id": "c1e5c6e8-413f-4f38-b151-688a7e639489",
   "metadata": {},
   "source": [
    "# Example notebook"
   ]
  },
  {
   "cell_type": "code",
   "execution_count": 1,
   "id": "d90c617a-a693-42df-90e7-18bd5302502a",
   "metadata": {},
   "outputs": [],
   "source": [
    "import yara_x"
   ]
  },
  {
   "cell_type": "code",
   "execution_count": 2,
   "id": "aff6ff63-40e9-4e30-b0a6-f4de15005ca0",
   "metadata": {},
   "outputs": [],
   "source": [
    "yara_rules = None\n",
    "input_file_path = \"/home/user/rules/dummy.yar\"\n",
    "\n",
    "with open(input_file_path, \"r\") as input_file:\n",
    "    yara_rules = input_file.read()"
   ]
  },
  {
   "cell_type": "code",
   "execution_count": 3,
   "id": "90b12b51-5ad8-43e4-a7e4-642efe19a80f",
   "metadata": {},
   "outputs": [
    {
     "name": "stdout",
     "output_type": "stream",
     "text": [
      "rule dummy { condition: false }\n",
      "\n"
     ]
    }
   ],
   "source": [
    "print(yara_rules)"
   ]
  }
 ],
 "metadata": {
  "kernelspec": {
   "display_name": "Python 3 (ipykernel)",
   "language": "python",
   "name": "python3"
  },
  "language_info": {
   "codemirror_mode": {
    "name": "ipython",
    "version": 3
   },
   "file_extension": ".py",
   "mimetype": "text/x-python",
   "name": "python",
   "nbconvert_exporter": "python",
   "pygments_lexer": "ipython3",
   "version": "3.11.2"
  }
 },
 "nbformat": 4,
 "nbformat_minor": 5
}
